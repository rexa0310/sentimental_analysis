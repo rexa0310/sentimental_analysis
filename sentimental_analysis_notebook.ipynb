{
 "cells": [
  {
   "cell_type": "code",
   "execution_count": 1,
   "id": "4cd19af7-ec48-4ab4-8b1f-3431381d875c",
   "metadata": {
    "id": "4cd19af7-ec48-4ab4-8b1f-3431381d875c"
   },
   "outputs": [],
   "source": [
    "import numpy as np  \n",
    "import pandas as pd \n",
    "import os\n",
    "import re   \n",
    "import nltk  \n",
    "from nltk.corpus import stopwords  \n",
    "from nltk.stem.porter import *   \n",
    "from sklearn.model_selection import train_test_split \n",
    "import tensorflow as tf\n",
    "import seaborn as sns\n",
    "import matplotlib.pyplot as plt\n",
    "import matplotlib.patches as mpatches\n",
    "%matplotlib inline\n",
    "import emoji\n",
    "import string\n",
    "from nltk.tokenize import word_tokenize\n",
    "from nltk.stem import WordNetLemmatizer"
   ]
  },
  {
   "cell_type": "code",
   "execution_count": 2,
   "id": "138d53c4-5d4c-46dc-ba07-dfd128b8dd3e",
   "metadata": {
    "id": "138d53c4-5d4c-46dc-ba07-dfd128b8dd3e",
    "outputId": "0499ff4c-5fe5-4e5c-d354-c7f4884649d0",
    "scrolled": true
   },
   "outputs": [
    {
     "data": {
      "text/html": [
       "<div>\n",
       "<style scoped>\n",
       "    .dataframe tbody tr th:only-of-type {\n",
       "        vertical-align: middle;\n",
       "    }\n",
       "\n",
       "    .dataframe tbody tr th {\n",
       "        vertical-align: top;\n",
       "    }\n",
       "\n",
       "    .dataframe thead th {\n",
       "        text-align: right;\n",
       "    }\n",
       "</style>\n",
       "<table border=\"1\" class=\"dataframe\">\n",
       "  <thead>\n",
       "    <tr style=\"text-align: right;\">\n",
       "      <th></th>\n",
       "      <th>clean_text</th>\n",
       "      <th>category</th>\n",
       "    </tr>\n",
       "  </thead>\n",
       "  <tbody>\n",
       "    <tr>\n",
       "      <th>0</th>\n",
       "      <td>when modi promised “minimum government maximum...</td>\n",
       "      <td>-1.0</td>\n",
       "    </tr>\n",
       "    <tr>\n",
       "      <th>1</th>\n",
       "      <td>talk all the nonsense and continue all the dra...</td>\n",
       "      <td>0.0</td>\n",
       "    </tr>\n",
       "    <tr>\n",
       "      <th>2</th>\n",
       "      <td>what did just say vote for modi  welcome bjp t...</td>\n",
       "      <td>1.0</td>\n",
       "    </tr>\n",
       "    <tr>\n",
       "      <th>3</th>\n",
       "      <td>asking his supporters prefix chowkidar their n...</td>\n",
       "      <td>1.0</td>\n",
       "    </tr>\n",
       "    <tr>\n",
       "      <th>4</th>\n",
       "      <td>answer who among these the most powerful world...</td>\n",
       "      <td>1.0</td>\n",
       "    </tr>\n",
       "  </tbody>\n",
       "</table>\n",
       "</div>"
      ],
      "text/plain": [
       "                                          clean_text  category\n",
       "0  when modi promised “minimum government maximum...      -1.0\n",
       "1  talk all the nonsense and continue all the dra...       0.0\n",
       "2  what did just say vote for modi  welcome bjp t...       1.0\n",
       "3  asking his supporters prefix chowkidar their n...       1.0\n",
       "4  answer who among these the most powerful world...       1.0"
      ]
     },
     "execution_count": 2,
     "metadata": {},
     "output_type": "execute_result"
    }
   ],
   "source": [
    "#loading dataset\n",
    "data = pd.read_csv(\"data/Twitter_Data.csv\")\n",
    "data.head(5)"
   ]
  },
  {
   "cell_type": "code",
   "execution_count": 3,
   "id": "76f74bb8",
   "metadata": {},
   "outputs": [
    {
     "data": {
      "text/plain": [
       "(162980, 2)"
      ]
     },
     "execution_count": 3,
     "metadata": {},
     "output_type": "execute_result"
    }
   ],
   "source": [
    "#checking for missing data (null data)\n",
    "data.isnull().sum()\n",
    "data.shape"
   ]
  },
  {
   "cell_type": "code",
   "execution_count": 4,
   "id": "0429d0bd",
   "metadata": {},
   "outputs": [
    {
     "data": {
      "text/plain": [
       "(162969, 2)"
      ]
     },
     "execution_count": 4,
     "metadata": {},
     "output_type": "execute_result"
    }
   ],
   "source": [
    "#dropping missing data\n",
    "data.dropna(axis=0, inplace=True)\n",
    "data.shape  #data dimensions"
   ]
  },
  {
   "cell_type": "code",
   "execution_count": 5,
   "id": "19d5f05d-8125-4749-981f-71abe1706aa5",
   "metadata": {
    "id": "19d5f05d-8125-4749-981f-71abe1706aa5",
    "outputId": "217175b7-9002-43b5-a451-1239aad4e712"
   },
   "outputs": [
    {
     "data": {
      "text/html": [
       "<div>\n",
       "<style scoped>\n",
       "    .dataframe tbody tr th:only-of-type {\n",
       "        vertical-align: middle;\n",
       "    }\n",
       "\n",
       "    .dataframe tbody tr th {\n",
       "        vertical-align: top;\n",
       "    }\n",
       "\n",
       "    .dataframe thead th {\n",
       "        text-align: right;\n",
       "    }\n",
       "</style>\n",
       "<table border=\"1\" class=\"dataframe\">\n",
       "  <thead>\n",
       "    <tr style=\"text-align: right;\">\n",
       "      <th></th>\n",
       "      <th>clean_text</th>\n",
       "      <th>category</th>\n",
       "    </tr>\n",
       "  </thead>\n",
       "  <tbody>\n",
       "    <tr>\n",
       "      <th>0</th>\n",
       "      <td>when modi promised “minimum government maximum...</td>\n",
       "      <td>Negative</td>\n",
       "    </tr>\n",
       "    <tr>\n",
       "      <th>1</th>\n",
       "      <td>talk all the nonsense and continue all the dra...</td>\n",
       "      <td>Neutral</td>\n",
       "    </tr>\n",
       "    <tr>\n",
       "      <th>2</th>\n",
       "      <td>what did just say vote for modi  welcome bjp t...</td>\n",
       "      <td>Positive</td>\n",
       "    </tr>\n",
       "    <tr>\n",
       "      <th>3</th>\n",
       "      <td>asking his supporters prefix chowkidar their n...</td>\n",
       "      <td>Positive</td>\n",
       "    </tr>\n",
       "    <tr>\n",
       "      <th>4</th>\n",
       "      <td>answer who among these the most powerful world...</td>\n",
       "      <td>Positive</td>\n",
       "    </tr>\n",
       "  </tbody>\n",
       "</table>\n",
       "</div>"
      ],
      "text/plain": [
       "                                          clean_text  category\n",
       "0  when modi promised “minimum government maximum...  Negative\n",
       "1  talk all the nonsense and continue all the dra...   Neutral\n",
       "2  what did just say vote for modi  welcome bjp t...  Positive\n",
       "3  asking his supporters prefix chowkidar their n...  Positive\n",
       "4  answer who among these the most powerful world...  Positive"
      ]
     },
     "execution_count": 5,
     "metadata": {},
     "output_type": "execute_result"
    }
   ],
   "source": [
    "#mapping tweet categories\n",
    "data['category'] = data['category'].map({-1.0:'Negative', 0.0:'Neutral', 1.0:'Positive'})\n",
    "data.head()"
   ]
  },
  {
   "cell_type": "code",
   "execution_count": 6,
   "id": "7a287a9b-fe89-4e4e-9f12-78de0048ffff",
   "metadata": {
    "id": "7a287a9b-fe89-4e4e-9f12-78de0048ffff",
    "outputId": "20d35a02-8275-4436-b9e7-981587b6038c"
   },
   "outputs": [
    {
     "data": {
      "text/plain": [
       "<AxesSubplot:xlabel='category'>"
      ]
     },
     "execution_count": 6,
     "metadata": {},
     "output_type": "execute_result"
    },
    {
     "data": {
      "image/png": "[encoded data removed]",
      "text/plain": [
       "<Figure size 432x288 with 1 Axes>"
      ]
     },
     "metadata": {
      "needs_background": "light"
     },
     "output_type": "display_data"
    }
   ],
   "source": [
    "#distribution of sentiments\n",
    "data.groupby('category').count().plot(kind='bar')"
   ]
  },
  {
   "cell_type": "code",
   "execution_count": 7,
   "id": "268650d2-c9f2-4882-ac04-4c1551d7a837",
   "metadata": {
    "id": "268650d2-c9f2-4882-ac04-4c1551d7a837",
    "outputId": "f7918729-97d1-45d3-fea9-65f0d7f31aa9"
   },
   "outputs": [
    {
     "data": {
      "text/plain": [
       "<AxesSubplot:>"
      ]
     },
     "execution_count": 7,
     "metadata": {},
     "output_type": "execute_result"
    },
    {
     "data": {
      "image/png": "[encoded data removed]",
      "text/plain": [
       "<Figure size 432x288 with 1 Axes>"
      ]
     },
     "metadata": {
      "needs_background": "light"
     },
     "output_type": "display_data"
    }
   ],
   "source": [
    "#calulating tweets length\n",
    "tweet_len = pd.Series([len(tweet.split()) for tweet in data['clean_text']])\n",
    "\n",
    "#distribution of tweet text lengths\n",
    "tweet_len.plot(kind='box')"
   ]
  },
  {
   "cell_type": "code",
   "execution_count": 8,
   "id": "e1fabcee-dabd-4136-8db3-2ed9e5e2a8f4",
   "metadata": {
    "id": "e1fabcee-dabd-4136-8db3-2ed9e5e2a8f4",
    "outputId": "9b79fc6d-298c-474f-bdc1-65dcd8dc7eb8"
   },
   "outputs": [
    {
     "data": {
      "image/png": "[encoded data removed]",
      "text/plain": [
       "<Figure size 1008x504 with 2 Axes>"
      ]
     },
     "metadata": {
      "needs_background": "light"
     },
     "output_type": "display_data"
    }
   ],
   "source": [
    "#plotting the distribution of text length for positive sentiment tweets\n",
    "fig = plt.figure(figsize=(14,7))\n",
    "data['length'] = data.clean_text.str.split().apply(len)\n",
    "ax1 = fig.add_subplot(122)\n",
    "sns.histplot(data[data['category']=='Positive']['length'], ax=ax1,color='green')\n",
    "describe = data.length[data.category=='Positive'].describe().to_frame().round(2)\n",
    "\n",
    "ax2 = fig.add_subplot(121)\n",
    "ax2.axis('off')\n",
    "font_size=14\n",
    "bbox = [0,0,1,1]\n",
    "table = ax2.table(cellText = describe.values, rowLabels = describe.index, bbox=bbox, colLabels=describe.columns)\n",
    "table.set_fontsize(font_size)\n",
    "fig.suptitle('Distribution of text length for positive sentiment tweets.', fontsize=16)\n",
    "plt.show()"
   ]
  },
  {
   "cell_type": "code",
   "execution_count": 9,
   "id": "c33c8e39-5f21-499d-b251-97ff2bf428d5",
   "metadata": {
    "id": "c33c8e39-5f21-499d-b251-97ff2bf428d5",
    "outputId": "2b2a77f8-63ad-4455-f7f9-9599fd9baf29"
   },
   "outputs": [
    {
     "data": {
      "image/png": "[encoded data removed]",
      "text/plain": [
       "<Figure size 1008x504 with 2 Axes>"
      ]
     },
     "metadata": {
      "needs_background": "light"
     },
     "output_type": "display_data"
    }
   ],
   "source": [
    "#plotting the distribution of text length for negative sentiment tweets\n",
    "fig = plt.figure(figsize=(14,7))\n",
    "data['length'] = data.clean_text.str.split().apply(len)\n",
    "ax1 = fig.add_subplot(122)\n",
    "sns.histplot(data[data['category']=='Negative']['length'], ax=ax1,color='red')\n",
    "describe = data.length[data.category=='Negative'].describe().to_frame().round(2)\n",
    "\n",
    "ax2 = fig.add_subplot(121)\n",
    "ax2.axis('off')\n",
    "font_size=14\n",
    "bbox = [0,0,1,1]\n",
    "table = ax2.table(cellText = describe.values, rowLabels = describe.index, bbox=bbox, colLabels=describe.columns)\n",
    "table.set_fontsize(font_size)\n",
    "fig.suptitle('Distribution of text length for negative sentiment tweets.', fontsize=16)\n",
    "plt.show()"
   ]
  },
  {
   "cell_type": "code",
   "execution_count": 10,
   "id": "5c0ffd77-d015-482a-be34-00d7a030922a",
   "metadata": {
    "id": "5c0ffd77-d015-482a-be34-00d7a030922a"
   },
   "outputs": [],
   "source": [
    "labels=['Negative','Neutral','Positive']\n",
    "sizes=[]\n",
    "colors = ['red','yellow','green']\n",
    "p=0\n",
    "n=0\n",
    "N=0\n",
    "for i in data['category']:\n",
    "    if i=='Negative':\n",
    "        n+=1\n",
    "    elif i=='Positive':\n",
    "        p+=1\n",
    "    else:\n",
    "        N+=1\n",
    "sizes.append(n)\n",
    "sizes.append(N)\n",
    "sizes.append(p)\n"
   ]
  },
  {
   "cell_type": "code",
   "execution_count": 11,
   "id": "c617a41f-b42c-4b8e-8145-a84da685d682",
   "metadata": {
    "id": "c617a41f-b42c-4b8e-8145-a84da685d682",
    "outputId": "ac46f4b6-2668-4aa5-ee47-e06cfcf3f041"
   },
   "outputs": [
    {
     "data": {
      "image/png": "[encoded data removed]",
      "text/plain": [
       "<Figure size 432x288 with 1 Axes>"
      ]
     },
     "metadata": {},
     "output_type": "display_data"
    }
   ],
   "source": [
    "#pie chart for tweets\n",
    "explode = (0.05, 0.05, 0.05)\n",
    "plt.pie(sizes,explode = explode,colors=colors,labels=labels,autopct='%1.1f%%',shadow=True,startangle=90)\n",
    "plt.axis('equal')\n",
    "plt.title(\"Tweets Distribution\")\n",
    "plt.show()"
   ]
  },
  {
   "cell_type": "code",
   "execution_count": 12,
   "id": "4df543ce-7608-4c4c-a5b4-4bf5227a6b10",
   "metadata": {
    "id": "4df543ce-7608-4c4c-a5b4-4bf5227a6b10",
    "outputId": "7be2e0c7-2abc-4f78-a57d-4180d254e576"
   },
   "outputs": [
    {
     "data": {
      "text/plain": [
       "<bound method NDFrame.head of                                                clean_text  category\n",
       "0       when modi promised “minimum government maximum...  Negative\n",
       "1       talk all the nonsense and continue all the dra...   Neutral\n",
       "2       what did just say vote for modi  welcome bjp t...  Positive\n",
       "3       asking his supporters prefix chowkidar their n...  Positive\n",
       "4       answer who among these the most powerful world...  Positive\n",
       "...                                                   ...       ...\n",
       "162975  why these 456 crores paid neerav modi not reco...  Negative\n",
       "162976  dear rss terrorist payal gawar what about modi...  Negative\n",
       "162977  did you cover her interaction forum where she ...   Neutral\n",
       "162978  there big project came into india modi dream p...   Neutral\n",
       "162979  have you ever listen about like gurukul where ...  Positive\n",
       "\n",
       "[162969 rows x 2 columns]>"
      ]
     },
     "execution_count": 12,
     "metadata": {},
     "output_type": "execute_result"
    }
   ],
   "source": [
    "data.drop(['length'],axis=1,inplace=True)\n",
    "data.head"
   ]
  },
  {
   "cell_type": "code",
   "execution_count": 13,
   "id": "c710f7a1",
   "metadata": {},
   "outputs": [
    {
     "name": "stderr",
     "output_type": "stream",
     "text": [
      "[nltk_data] Downloading package stopwords to\n",
      "[nltk_data]     C:\\Users\\goyal\\AppData\\Roaming\\nltk_data...\n",
      "[nltk_data]   Package stopwords is already up-to-date!\n",
      "[nltk_data] Downloading package punkt to\n",
      "[nltk_data]     C:\\Users\\goyal\\AppData\\Roaming\\nltk_data...\n",
      "[nltk_data]   Package punkt is already up-to-date!\n",
      "[nltk_data] Downloading package wordnet to\n",
      "[nltk_data]     C:\\Users\\goyal\\AppData\\Roaming\\nltk_data...\n",
      "[nltk_data]   Package wordnet is already up-to-date!\n"
     ]
    }
   ],
   "source": [
    "# Download necessary NLTK data\n",
    "nltk.download('stopwords')\n",
    "nltk.download('punkt')\n",
    "nltk.download('wordnet')\n",
    "\n",
    "# Initialize Lemmatizer and Stopwords\n",
    "lemmatizer = WordNetLemmatizer()\n",
    "stop_words = set(stopwords.words('english'))"
   ]
  },
  {
   "cell_type": "code",
   "execution_count": 14,
   "id": "006322d4",
   "metadata": {},
   "outputs": [],
   "source": [
    "def clean_text(text):\n",
    "    text = emoji.demojize(text)\n",
    "    text = re.sub(r\"http\\S+|www\\S+|@\\S+\", \"\", text)\n",
    "    text = re.sub(r\"[^a-zA-Z]\", \" \", text)\n",
    "    words = word_tokenize(text.lower())  \n",
    "    words = [lemmatizer.lemmatize(word) for word in words if word not in stop_words and word not in string.punctuation]\n",
    "\n",
    "    return \" \".join(words)\n",
    "data[\"clean_text\"] = data[\"clean_text\"].apply(clean_text)"
   ]
  },
  {
   "cell_type": "code",
   "execution_count": 15,
   "id": "3be63205-e7ea-4645-97e1-a8c0c32092fb",
   "metadata": {
    "id": "3be63205-e7ea-4645-97e1-a8c0c32092fb"
   },
   "outputs": [],
   "source": [
    "from sklearn.preprocessing import OneHotEncoder\n",
    "\n",
    "encoder = OneHotEncoder(sparse=False) \n",
    "Y = encoder.fit_transform(data[['category']])\n"
   ]
  },
  {
   "cell_type": "code",
   "execution_count": 16,
   "id": "023da06d-3a7e-4077-81f9-57fd078e5e37",
   "metadata": {
    "id": "023da06d-3a7e-4077-81f9-57fd078e5e37",
    "outputId": "453d4e73-8620-4da4-b14f-494c79c868ec",
    "scrolled": true
   },
   "outputs": [
    {
     "name": "stdout",
     "output_type": "stream",
     "text": [
      "modi promised minimum government maximum governance expected begin difficult job reforming state take year get justice state business exit psus temple\n",
      "[1. 0. 0.]\n"
     ]
    }
   ],
   "source": [
    "X=data['clean_text']\n",
    "print(X[0])\n",
    "print(Y[0])"
   ]
  },
  {
   "cell_type": "code",
   "execution_count": 17,
   "id": "8047b1e3",
   "metadata": {},
   "outputs": [
    {
     "name": "stdout",
     "output_type": "stream",
     "text": [
      "Train Set -> (113078,) (113078, 3)\n",
      "Validation Set -> (1000,) (1000, 3)\n",
      "Test Set -> (48891,) (48891, 3)\n"
     ]
    }
   ],
   "source": [
    "import gensim.downloader as api\n",
    "\n",
    "# Step 1: Load GloVe Embeddings (Pretrained)\n",
    "glove_model = api.load(\"glove-wiki-gigaword-50\")  # 50-dim GloVe embeddings\n",
    "\n",
    "y = pd.get_dummies(data['category'])\n",
    "\n",
    "# First split: 70% train, 30% test\n",
    "X_train, X_test, y_train, y_test = train_test_split(data[\"clean_text\"], y, test_size=0.3, random_state=42)\n",
    "\n",
    "# Extract validation set (1000 samples) from train\n",
    "valid_size = 1000\n",
    "X_valid, y_valid = X_train[-valid_size:], y_train[-valid_size:]\n",
    "X_train, y_train = X_train[:-valid_size], y_train[:-valid_size]\n",
    "\n",
    "print('Train Set ->', X_train.shape, y_train.shape)\n",
    "print('Validation Set ->', X_valid.shape, y_valid.shape)\n",
    "print('Test Set ->', X_test.shape, y_test.shape)\n"
   ]
  },
  {
   "cell_type": "code",
   "execution_count": 18,
   "id": "956bda40",
   "metadata": {},
   "outputs": [],
   "source": [
    "import pickle"
   ]
  },
  {
   "cell_type": "code",
   "execution_count": 19,
   "id": "a64bd75e-68af-4545-9524-075d24469aea",
   "metadata": {
    "id": "a64bd75e-68af-4545-9524-075d24469aea",
    "outputId": "3f069bbe-6526-47c9-f73b-651c4594a604"
   },
   "outputs": [
    {
     "name": "stdout",
     "output_type": "stream",
     "text": [
      "✅ GloVe Embeddings Loaded!\n"
     ]
    }
   ],
   "source": [
    "from keras.preprocessing.text import Tokenizer\n",
    "from keras.preprocessing.sequence import pad_sequences\n",
    "import numpy as np\n",
    "import pickle\n",
    "\n",
    "max_words = 5000  \n",
    "max_len = 50  \n",
    "\n",
    "# Function to tokenize and pad sequences\n",
    "def tokenize_pad_sequences(text):\n",
    "    tokenizer = Tokenizer(num_words=max_words, lower=True, split=' ')\n",
    "    tokenizer.fit_on_texts(text)  # Fit only on training data\n",
    "\n",
    "    # Convert text to sequences\n",
    "    X = tokenizer.texts_to_sequences(text)\n",
    "\n",
    "    # Pad sequences\n",
    "    X = pad_sequences(X, padding='post', maxlen=max_len)\n",
    "    \n",
    "    return X, tokenizer\n",
    "\n",
    "# Apply tokenization & padding\n",
    "X_train, tokenizer = tokenize_pad_sequences(X_train)\n",
    "X_valid = pad_sequences(tokenizer.texts_to_sequences(X_valid), maxlen=max_len, padding='post')\n",
    "X_test = pad_sequences(tokenizer.texts_to_sequences(X_test), maxlen=max_len, padding='post')\n",
    "\n",
    "# Save Tokenizer\n",
    "with open('tokenizer.pickle', 'wb') as handle:\n",
    "    pickle.dump(tokenizer, handle, protocol=pickle.HIGHEST_PROTOCOL)\n",
    "\n",
    "# Step 4: Create Word Embedding Matrix\n",
    "embedding_dim = 100  # GloVe vector size\n",
    "embedding_index = {}\n",
    "\n",
    "# Load pre-trained GloVe embeddings\n",
    "with open(\"glove.6B.100d.txt\", encoding=\"utf8\") as f:\n",
    "    for line in f:\n",
    "        values = line.split()\n",
    "        word = values[0]\n",
    "        vector = np.asarray(values[1:], dtype=\"float32\")\n",
    "        embedding_index[word] = vector\n",
    "\n",
    "# Create embedding matrix\n",
    "word_index = tokenizer.word_index\n",
    "num_words = min(max_words, len(word_index) + 1)\n",
    "embedding_matrix = np.zeros((num_words, embedding_dim))\n",
    "\n",
    "for word, i in word_index.items():\n",
    "    if i >= max_words:\n",
    "        continue\n",
    "    vector = embedding_index.get(word)\n",
    "    if vector is not None:\n",
    "        embedding_matrix[i] = vector  # Assign GloVe vector if found\n",
    "\n",
    "print(\"✅ GloVe Embeddings Loaded!\")\n"
   ]
  },
  {
   "cell_type": "code",
   "execution_count": 20,
   "id": "32a57cd7-5d28-46aa-81dc-d26731c8cec5",
   "metadata": {
    "id": "32a57cd7-5d28-46aa-81dc-d26731c8cec5",
    "outputId": "a9723ae9-7437-4546-ae29-17e7bf02ec00"
   },
   "outputs": [
    {
     "name": "stdout",
     "output_type": "stream",
     "text": [
      "150 150\n"
     ]
    }
   ],
   "source": [
    "print(len(X[0]),len(data['clean_text'][0]))"
   ]
  },
  {
   "cell_type": "code",
   "execution_count": 21,
   "id": "7157d0dc",
   "metadata": {},
   "outputs": [
    {
     "name": "stdout",
     "output_type": "stream",
     "text": [
      "X_train shape: (113078, 50)\n",
      "X_valid shape: (1000, 50)\n"
     ]
    }
   ],
   "source": [
    "print(\"X_train shape:\", X_train.shape)  # Should be (num_samples, 50)\n",
    "print(\"X_valid shape:\", X_valid.shape)  # Should be (num_samples, 50)\n"
   ]
  },
  {
   "cell_type": "code",
   "execution_count": 22,
   "id": "a7f208c5-9212-493f-b361-8c407ae36146",
   "metadata": {
    "id": "a7f208c5-9212-493f-b361-8c407ae36146"
   },
   "outputs": [
    {
     "name": "stdout",
     "output_type": "stream",
     "text": [
      "Epoch 1/10\n",
      "3534/3534 [==============================] - 104s 28ms/step - loss: 0.4796 - accuracy: 0.8397 - precision: 0.8696 - recall: 0.8021 - f1_score: 0.8213 - val_loss: 0.3753 - val_accuracy: 0.8830 - val_precision: 0.8905 - val_recall: 0.8780 - val_f1_score: 0.8839\n",
      "Epoch 2/10\n",
      "3534/3534 [==============================] - 99s 28ms/step - loss: 0.3545 - accuracy: 0.8961 - precision: 0.9030 - recall: 0.8872 - f1_score: 0.8949 - val_loss: 0.3652 - val_accuracy: 0.8870 - val_precision: 0.8915 - val_recall: 0.8790 - val_f1_score: 0.8863\n",
      "Epoch 3/10\n",
      "3534/3534 [==============================] - 103s 29ms/step - loss: 0.3129 - accuracy: 0.9064 - precision: 0.9148 - recall: 0.8964 - f1_score: 0.9054 - val_loss: 0.3990 - val_accuracy: 0.8820 - val_precision: 0.8907 - val_recall: 0.8800 - val_f1_score: 0.8864\n",
      "Epoch 4/10\n",
      "3534/3534 [==============================] - 121s 34ms/step - loss: 0.2719 - accuracy: 0.9177 - precision: 0.9287 - recall: 0.9069 - f1_score: 0.9175 - val_loss: 0.3849 - val_accuracy: 0.8900 - val_precision: 0.8971 - val_recall: 0.8810 - val_f1_score: 0.8885\n",
      "Epoch 5/10\n",
      "3534/3534 [==============================] - 114s 32ms/step - loss: 0.2302 - accuracy: 0.9301 - precision: 0.9411 - recall: 0.9196 - f1_score: 0.9301 - val_loss: 0.3978 - val_accuracy: 0.8860 - val_precision: 0.8931 - val_recall: 0.8770 - val_f1_score: 0.8844\n",
      "Epoch 6/10\n",
      "3534/3534 [==============================] - 119s 34ms/step - loss: 0.1900 - accuracy: 0.9425 - precision: 0.9515 - recall: 0.9339 - f1_score: 0.9425 - val_loss: 0.4688 - val_accuracy: 0.8820 - val_precision: 0.8890 - val_recall: 0.8730 - val_f1_score: 0.8820\n",
      "Epoch 7/10\n",
      "3534/3534 [==============================] - 115s 32ms/step - loss: 0.1597 - accuracy: 0.9512 - precision: 0.9591 - recall: 0.9440 - f1_score: 0.9514 - val_loss: 0.5150 - val_accuracy: 0.8800 - val_precision: 0.8855 - val_recall: 0.8740 - val_f1_score: 0.8824\n",
      "Epoch 8/10\n",
      "3534/3534 [==============================] - 113s 32ms/step - loss: 0.1336 - accuracy: 0.9596 - precision: 0.9660 - recall: 0.9534 - f1_score: 0.9595 - val_loss: 0.6336 - val_accuracy: 0.8680 - val_precision: 0.8714 - val_recall: 0.8670 - val_f1_score: 0.8723\n",
      "Epoch 9/10\n",
      "3534/3534 [==============================] - 115s 32ms/step - loss: 0.1139 - accuracy: 0.9661 - precision: 0.9713 - recall: 0.9613 - f1_score: 0.9662 - val_loss: 0.6576 - val_accuracy: 0.8640 - val_precision: 0.8762 - val_recall: 0.8560 - val_f1_score: 0.8689\n",
      "Epoch 10/10\n",
      "3534/3534 [==============================] - 116s 33ms/step - loss: 0.0976 - accuracy: 0.9714 - precision: 0.9753 - recall: 0.9679 - f1_score: 0.9715 - val_loss: 0.7308 - val_accuracy: 0.8590 - val_precision: 0.8635 - val_recall: 0.8540 - val_f1_score: 0.8619\n"
     ]
    }
   ],
   "source": [
    "import keras.backend as K\n",
    "from keras.models import Sequential\n",
    "from keras.layers import Embedding, Conv1D, MaxPooling1D, Bidirectional, LSTM, Dense, Dropout\n",
    "from keras.metrics import Precision, Recall\n",
    "\n",
    "\n",
    "def f1_score(y_true, y_pred):\n",
    "    y_pred = K.round(y_pred)  # Convert probabilities to binary values\n",
    "    tp = K.sum(K.cast(y_true * y_pred, 'float32'))  # True Positives\n",
    "    fp = K.sum(K.cast((1 - y_true) * y_pred, 'float32'))  # False Positives\n",
    "    fn = K.sum(K.cast(y_true * (1 - y_pred), 'float32'))  # False Negatives\n",
    "\n",
    "    precision = tp / (tp + fp + K.epsilon())\n",
    "    recall = tp / (tp + fn + K.epsilon())\n",
    "    \n",
    "    return 2 * (precision * recall) / (precision + recall + K.epsilon())\n",
    "\n",
    "# Hyperparameters\n",
    "vocab_size = 5000  # Ensure this matches tokenizer's vocab size\n",
    "embedding_size = 100  # Match GloVe embedding dimension\n",
    "max_len = 50  # Sequence length\n",
    "\n",
    "# Build model\n",
    "model = Sequential()\n",
    "model.add(Embedding(input_dim=vocab_size, output_dim=embedding_size, input_length=max_len))\n",
    "model.add(Conv1D(filters=64, kernel_size=3, padding='same', activation='relu'))\n",
    "model.add(MaxPooling1D(pool_size=2))\n",
    "model.add(Bidirectional(LSTM(64, return_sequences=True)))\n",
    "model.add(Dropout(0.5))\n",
    "model.add(LSTM(32))\n",
    "model.add(Dense(32, activation='relu'))\n",
    "model.add(Dropout(0.4))\n",
    "model.add(Dense(3, activation='softmax'))\n",
    "\n",
    "# Compile model\n",
    "model.compile(loss='categorical_crossentropy', optimizer='adam',\n",
    "              metrics=['accuracy', Precision(), Recall(), f1_score])\n",
    "\n",
    "# Train model\n",
    "num_epochs = 10\n",
    "batch_size = 32\n",
    "history = model.fit(X_train, y_train, validation_data=(X_valid, y_valid),\n",
    "                    batch_size=batch_size, epochs=num_epochs, verbose=1)\n"
   ]
  },
  {
   "cell_type": "code",
   "execution_count": 23,
   "id": "9d875b11-5fb4-4aa3-bbb2-f20eb9409ad3",
   "metadata": {
    "id": "9d875b11-5fb4-4aa3-bbb2-f20eb9409ad3",
    "outputId": "96133148-0cd2-4126-c620-5bb0459fc9be"
   },
   "outputs": [
    {
     "name": "stdout",
     "output_type": "stream",
     "text": [
      "Model: \"sequential\"\n",
      "_________________________________________________________________\n",
      " Layer (type)                Output Shape              Param #   \n",
      "=================================================================\n",
      " embedding (Embedding)       (None, 50, 100)           500000    \n",
      "                                                                 \n",
      " conv1d (Conv1D)             (None, 50, 64)            19264     \n",
      "                                                                 \n",
      " max_pooling1d (MaxPooling1D  (None, 25, 64)           0         \n",
      " )                                                               \n",
      "                                                                 \n",
      " bidirectional (Bidirectiona  (None, 25, 128)          66048     \n",
      " l)                                                              \n",
      "                                                                 \n",
      " dropout (Dropout)           (None, 25, 128)           0         \n",
      "                                                                 \n",
      " lstm_1 (LSTM)               (None, 32)                20608     \n",
      "                                                                 \n",
      " dense (Dense)               (None, 32)                1056      \n",
      "                                                                 \n",
      " dropout_1 (Dropout)         (None, 32)                0         \n",
      "                                                                 \n",
      " dense_1 (Dense)             (None, 3)                 99        \n",
      "                                                                 \n",
      "=================================================================\n",
      "Total params: 607,075\n",
      "Trainable params: 607,075\n",
      "Non-trainable params: 0\n",
      "_________________________________________________________________\n",
      "None\n"
     ]
    }
   ],
   "source": [
    "print(model.summary())"
   ]
  },
  {
   "cell_type": "code",
   "execution_count": 24,
   "id": "6aa84c19-12e5-4290-a037-37c41945bb72",
   "metadata": {
    "id": "6aa84c19-12e5-4290-a037-37c41945bb72",
    "outputId": "8895a794-c019-4bd2-d154-030b32b18d93"
   },
   "outputs": [
    {
     "name": "stdout",
     "output_type": "stream",
     "text": [
      "\n",
      "Accuracy  : 0.8614\n",
      "Precision : 0.8668\n",
      "Recall    : 0.8562\n",
      "F1 Score  : 0.9286\n"
     ]
    }
   ],
   "source": [
    "# Evaluate model on the test set\n",
    "loss, accuracy, precision, recall,f1 = model.evaluate(X_test, y_test, verbose=0)\n",
    "# Print metrics\n",
    "print('')\n",
    "print('Accuracy  : {:.4f}'.format(accuracy))\n",
    "print('Precision : {:.4f}'.format(precision))\n",
    "print('Recall    : {:.4f}'.format(recall))\n",
    "print('F1 Score  : {:.4f}'.format(f1_score(precision, recall)))"
   ]
  },
  {
   "cell_type": "code",
   "execution_count": 25,
   "id": "80b7f4aa-00d3-43ac-8a7e-e80b9289c234",
   "metadata": {
    "id": "80b7f4aa-00d3-43ac-8a7e-e80b9289c234",
    "outputId": "e13dd5b8-6f45-4636-eddb-571ccee3f210"
   },
   "outputs": [
    {
     "data": {
      "image/png": "[encoded data removed]",
      "text/plain": [
       "<Figure size 720x288 with 2 Axes>"
      ]
     },
     "metadata": {
      "needs_background": "light"
     },
     "output_type": "display_data"
    }
   ],
   "source": [
    "def plot_training_hist(history):\n",
    "    '''Function to plot history for accuracy and loss'''\n",
    "\n",
    "    fig, ax = plt.subplots(1, 2, figsize=(10,4))\n",
    "    # first plot\n",
    "    ax[0].plot(history.history['accuracy'])\n",
    "    ax[0].plot(history.history['val_accuracy'])\n",
    "    ax[0].set_title('Model Accuracy')\n",
    "    ax[0].set_xlabel('epoch')\n",
    "    ax[0].set_ylabel('accuracy')\n",
    "    ax[0].legend(['train', 'validation'], loc='best')\n",
    "    # second plot\n",
    "    ax[1].plot(history.history['loss'])\n",
    "    ax[1].plot(history.history['val_loss'])\n",
    "    ax[1].set_title('Model Loss')\n",
    "    ax[1].set_xlabel('epoch')\n",
    "    ax[1].set_ylabel('loss')\n",
    "    ax[1].legend(['train', 'validation'], loc='best')\n",
    "\n",
    "plot_training_hist(history)"
   ]
  },
  {
   "cell_type": "code",
   "execution_count": 26,
   "id": "be11f5bd-d6ed-4bc1-a9ba-5666804a3701",
   "metadata": {
    "id": "be11f5bd-d6ed-4bc1-a9ba-5666804a3701",
    "outputId": "49b4f745-a4b7-47d0-8287-a6a5864a8d6d",
    "tags": []
   },
   "outputs": [
    {
     "data": {
      "image/png": "[encoded data removed]",
      "text/plain": [
       "<Figure size 576x432 with 2 Axes>"
      ]
     },
     "metadata": {
      "needs_background": "light"
     },
     "output_type": "display_data"
    }
   ],
   "source": [
    "from sklearn.metrics import confusion_matrix\n",
    "\n",
    "def plot_confusion_matrix(model, X_test, y_test):\n",
    "    '''Function to plot confusion matrix for the passed model and the data'''\n",
    "\n",
    "    sentiment_classes = ['Negative', 'Neutral', 'Positive']\n",
    "    # use model to do the prediction\n",
    "    y_pred = model.predict(X_test)\n",
    "    # compute confusion matrix\n",
    "    cm = confusion_matrix(np.argmax(np.array(y_test),axis=1), np.argmax(y_pred, axis=1))\n",
    "    # plot confusion matrix\n",
    "    plt.figure(figsize=(8,6))\n",
    "    sns.heatmap(cm, cmap=plt.cm.Blues, annot=True, fmt='d',\n",
    "                xticklabels=sentiment_classes,\n",
    "                yticklabels=sentiment_classes)\n",
    "    plt.title('Confusion matrix', fontsize=16)\n",
    "    plt.xlabel('Actual label', fontsize=12)\n",
    "    plt.ylabel('Predicted label', fontsize=12)\n",
    "\n",
    "plot_confusion_matrix(model, X_test, y_test)"
   ]
  },
  {
   "cell_type": "code",
   "execution_count": 39,
   "id": "64cbfed6-a108-46ca-9b6f-195e9ffe5a87",
   "metadata": {
    "id": "64cbfed6-a108-46ca-9b6f-195e9ffe5a87",
    "outputId": "adfade28-f9a0-40ee-b32b-bc1452fbfc26",
    "tags": []
   },
   "outputs": [],
   "source": [
    "from tensorflow.keras.models import load_model\n",
    "from tensorflow.keras.optimizers import Adam\n",
    "\n",
    "# Load the model\n",
    "model = load_model(\"Models/best_model.keras\", compile=False)\n",
    "\n",
    "# ✅ Recompile with the same loss and metrics (adjust if needed)\n",
    "model.compile(optimizer=Adam(learning_rate=0.001), loss=\"categorical_crossentropy\", metrics=[\"accuracy\"])\n",
    "\n",
    "# ✅ Re-save in correct format\n",
    "model.save(\"Models/best_model.keras\")\n"
   ]
  },
  {
   "cell_type": "code",
   "execution_count": 32,
   "id": "cbf19f37-d13d-410e-b7c6-c6ce6217984c",
   "metadata": {
    "id": "cbf19f37-d13d-410e-b7c6-c6ce6217984c"
   },
   "outputs": [
    {
     "name": "stdout",
     "output_type": "stream",
     "text": [
      "Predicted Sentiment: Positive\n"
     ]
    }
   ],
   "source": [
    "import numpy as np\n",
    "from keras.models import load_model\n",
    "from keras.preprocessing.sequence import pad_sequences\n",
    "import pickle\n",
    "\n",
    "\n",
    "def f1_score(y_true, y_pred):\n",
    "    precision = Precision()(y_true, y_pred)\n",
    "    recall = Recall()(y_true, y_pred)\n",
    "    return 2 * (precision * recall) / (precision + recall + K.epsilon())\n",
    "\n",
    "# Load the model with custom objects\n",
    "model = load_model('Models/best_model.keras', custom_objects={'f1_score': f1_score})\n",
    "\n",
    "# Load the tokenizer\n",
    "with open('tokenizer.pickle', 'rb') as handle:\n",
    "    tokenizer = pickle.load(handle)\n",
    "\n",
    "# Define sentiment classes\n",
    "sentiment_classes = ['Negative', 'Neutral', 'Positive']\n",
    "max_len = 50  # Ensure it matches the model input length\n",
    "\n",
    "def predict_class(text):\n",
    "    \"\"\"\n",
    "    Predict the sentiment class of the given text.\n",
    "    \n",
    "    Args:\n",
    "        text (str or list): Input text or list of texts\n",
    "    \n",
    "    Returns:\n",
    "        str or list: Predicted sentiment(s)\n",
    "    \"\"\"\n",
    "\n",
    "    # Ensure input is a list (for batch processing)\n",
    "    if isinstance(text, str):\n",
    "        text = [text]\n",
    "\n",
    "    # Convert text to sequences\n",
    "    xt = tokenizer.texts_to_sequences(text)\n",
    "    \n",
    "    # Pad sequences to ensure uniform input size\n",
    "    xt = pad_sequences(xt, padding='post', maxlen=max_len)\n",
    "\n",
    "    # Predict sentiment\n",
    "    yt = model.predict(xt)\n",
    "    predictions = yt.argmax(axis=1)\n",
    "\n",
    "    # Return predictions as labels\n",
    "    return [sentiment_classes[pred] for pred in predictions]\n",
    "\n",
    "# Example usage\n",
    "text_input = \"I love this product, it's amazing!\"\n",
    "predicted_sentiment = predict_class(text_input)\n",
    "print(f\"Predicted Sentiment: {predicted_sentiment[0]}\")\n"
   ]
  },
  {
   "cell_type": "code",
   "execution_count": 33,
   "id": "bff3b9ef-10d1-40f4-abe8-a2d2f7939b75",
   "metadata": {
    "id": "bff3b9ef-10d1-40f4-abe8-a2d2f7939b75",
    "outputId": "47e6a576-e435-4f0f-d2dc-64943d6cf985"
   },
   "outputs": [
    {
     "data": {
      "text/plain": [
       "['Negative']"
      ]
     },
     "execution_count": 33,
     "metadata": {},
     "output_type": "execute_result"
    }
   ],
   "source": [
    "predict_class(['\"This is the worst day of my life'])"
   ]
  },
  {
   "cell_type": "code",
   "execution_count": 34,
   "id": "9b0c5fc0-d100-4c5f-825e-23c086b841c8",
   "metadata": {
    "id": "9b0c5fc0-d100-4c5f-825e-23c086b841c8",
    "outputId": "689d39a4-4728-4c1c-e2a2-b9dbe4c47729"
   },
   "outputs": [
    {
     "data": {
      "text/plain": [
       "['Neutral']"
      ]
     },
     "execution_count": 34,
     "metadata": {},
     "output_type": "execute_result"
    }
   ],
   "source": [
    "predict_class(['\"hello how are you'])"
   ]
  },
  {
   "cell_type": "code",
   "execution_count": 35,
   "id": "5af02641-33f9-40fd-bf54-95a30e14961b",
   "metadata": {
    "id": "5af02641-33f9-40fd-bf54-95a30e14961b",
    "outputId": "11f674d6-4ab1-4b27-cabb-f1d03a09d2b0"
   },
   "outputs": [
    {
     "data": {
      "text/plain": [
       "['Positive']"
      ]
     },
     "execution_count": 35,
     "metadata": {},
     "output_type": "execute_result"
    }
   ],
   "source": [
    "predict_class(['\"always be happy'])"
   ]
  },
  {
   "cell_type": "code",
   "execution_count": null,
   "id": "ce1b46e5",
   "metadata": {},
   "outputs": [],
   "source": [
    "# import urllib.request\n",
    "\n",
    "# url = \"http://nlp.stanford.edu/data/glove.6B.zip\"\n",
    "# destination = \"C:\\\\Users\\\\goyal\\\\Desktop\\\\Sentiment-Analysis-master\\\\glove.6B.zip\"\n",
    "\n",
    "# print(\"Downloading GloVe embeddings...\")\n",
    "# urllib.request.urlretrieve(url, destination)\n",
    "# print(\"Download complete!\")\n"
   ]
  },
  {
   "cell_type": "code",
   "execution_count": null,
   "id": "f39f27ac",
   "metadata": {},
   "outputs": [],
   "source": []
  }
 ],
 "metadata": {
  "colab": {
   "provenance": [],
   "toc_visible": true
  },
  "kernelspec": {
   "display_name": "Python 3 (ipykernel)",
   "language": "python",
   "name": "python3"
  },
  "language_info": {
   "codemirror_mode": {
    "name": "ipython",
    "version": 3
   },
   "file_extension": ".py",
   "mimetype": "text/x-python",
   "name": "python",
   "nbconvert_exporter": "python",
   "pygments_lexer": "ipython3",
   "version": "3.9.7"
  }
 },
 "nbformat": 4,
 "nbformat_minor": 5
}
