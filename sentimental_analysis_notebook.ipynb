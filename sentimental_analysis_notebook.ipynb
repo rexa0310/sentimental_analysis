{
  "cells": [
    {
      "cell_type": "code",
      "execution_count": null,
      "id": "4cd19af7-ec48-4ab4-8b1f-3431381d875c",
      "metadata": {
        "id": "4cd19af7-ec48-4ab4-8b1f-3431381d875c"
      },
      "outputs": [],
      "source": [
        "import numpy as np  #linear algebra\n",
        "import pandas as pd  #data processing\n",
        "import os\n",
        "\n",
        "import re    #for removing non-letter character\n",
        "import nltk   #NLP\n",
        "\n",
        "from nltk.corpus import stopwords   #to remove useless words\n",
        "from nltk.stem.porter import *    #stemming\n",
        "\n",
        "from sklearn.model_selection import train_test_split  #to split the data for training and testing purpose\n",
        "# for building model\n",
        "import tensorflow as tf\n",
        "import seaborn as sns"
      ]
    },
    {
      "cell_type": "code",
      "execution_count": null,
      "id": "e3b608a1-6172-4683-9f1f-3d21573da651",
      "metadata": {
        "id": "e3b608a1-6172-4683-9f1f-3d21573da651"
      },
      "outputs": [],
      "source": [
        "#for data visualization\n",
        "import matplotlib.pyplot as plt\n",
        "import matplotlib.patches as mpatches\n",
        "%matplotlib inline"
      ]
    },
    {
      "cell_type": "code",
      "execution_count": null,
      "id": "138d53c4-5d4c-46dc-ba07-dfd128b8dd3e",
      "metadata": {
        "id": "138d53c4-5d4c-46dc-ba07-dfd128b8dd3e",
        "outputId": "0499ff4c-5fe5-4e5c-d354-c7f4884649d0"
      },
      "outputs": [
        {
          "data": {
            "text/html": [
              "<div>\n",
              "<style scoped>\n",
              "    .dataframe tbody tr th:only-of-type {\n",
              "        vertical-align: middle;\n",
              "    }\n",
              "\n",
              "    .dataframe tbody tr th {\n",
              "        vertical-align: top;\n",
              "    }\n",
              "\n",
              "    .dataframe thead th {\n",
              "        text-align: right;\n",
              "    }\n",
              "</style>\n",
              "<table border=\"1\" class=\"dataframe\">\n",
              "  <thead>\n",
              "    <tr style=\"text-align: right;\">\n",
              "      <th></th>\n",
              "      <th>clean_text</th>\n",
              "      <th>category</th>\n",
              "    </tr>\n",
              "  </thead>\n",
              "  <tbody>\n",
              "    <tr>\n",
              "      <th>0</th>\n",
              "      <td>when modi promised “minimum government maximum...</td>\n",
              "      <td>-1.0</td>\n",
              "    </tr>\n",
              "    <tr>\n",
              "      <th>1</th>\n",
              "      <td>talk all the nonsense and continue all the dra...</td>\n",
              "      <td>0.0</td>\n",
              "    </tr>\n",
              "    <tr>\n",
              "      <th>2</th>\n",
              "      <td>what did just say vote for modi  welcome bjp t...</td>\n",
              "      <td>1.0</td>\n",
              "    </tr>\n",
              "    <tr>\n",
              "      <th>3</th>\n",
              "      <td>asking his supporters prefix chowkidar their n...</td>\n",
              "      <td>1.0</td>\n",
              "    </tr>\n",
              "    <tr>\n",
              "      <th>4</th>\n",
              "      <td>answer who among these the most powerful world...</td>\n",
              "      <td>1.0</td>\n",
              "    </tr>\n",
              "  </tbody>\n",
              "</table>\n",
              "</div>"
            ],
            "text/plain": [
              "                                          clean_text  category\n",
              "0  when modi promised “minimum government maximum...      -1.0\n",
              "1  talk all the nonsense and continue all the dra...       0.0\n",
              "2  what did just say vote for modi  welcome bjp t...       1.0\n",
              "3  asking his supporters prefix chowkidar their n...       1.0\n",
              "4  answer who among these the most powerful world...       1.0"
            ]
          },
          "execution_count": 3,
          "metadata": {},
          "output_type": "execute_result"
        }
      ],
      "source": [
        "#loading dataset\n",
        "data = pd.read_csv(\"Twitter_Data.csv\")\n",
        "data.head(5)"
      ]
    },
    {
      "cell_type": "code",
      "execution_count": null,
      "id": "6015f602-a626-40f5-b321-721275503687",
      "metadata": {
        "id": "6015f602-a626-40f5-b321-721275503687",
        "outputId": "a0d50829-fa43-4511-c383-34b5bfae4737"
      },
      "outputs": [
        {
          "data": {
            "text/plain": [
              "(162980, 2)"
            ]
          },
          "execution_count": 4,
          "metadata": {},
          "output_type": "execute_result"
        }
      ],
      "source": [
        "#checking for missing data (null data)\n",
        "data.isnull().sum()\n",
        "data.shape"
      ]
    },
    {
      "cell_type": "code",
      "execution_count": null,
      "id": "455d5bdd-f7eb-489e-a223-6c5f8f0930da",
      "metadata": {
        "id": "455d5bdd-f7eb-489e-a223-6c5f8f0930da",
        "outputId": "2aa9cb18-8215-4d10-8a91-0745aeb352da"
      },
      "outputs": [
        {
          "data": {
            "text/plain": [
              "(162969, 2)"
            ]
          },
          "execution_count": 5,
          "metadata": {},
          "output_type": "execute_result"
        }
      ],
      "source": [
        "#dropping missing data\n",
        "data.dropna(axis=0, inplace=True)\n",
        "data.shape  #data dimensions"
      ]
    },
    {
      "cell_type": "code",
      "execution_count": null,
      "id": "19d5f05d-8125-4749-981f-71abe1706aa5",
      "metadata": {
        "id": "19d5f05d-8125-4749-981f-71abe1706aa5",
        "outputId": "217175b7-9002-43b5-a451-1239aad4e712"
      },
      "outputs": [
        {
          "data": {
            "text/html": [
              "<div>\n",
              "<style scoped>\n",
              "    .dataframe tbody tr th:only-of-type {\n",
              "        vertical-align: middle;\n",
              "    }\n",
              "\n",
              "    .dataframe tbody tr th {\n",
              "        vertical-align: top;\n",
              "    }\n",
              "\n",
              "    .dataframe thead th {\n",
              "        text-align: right;\n",
              "    }\n",
              "</style>\n",
              "<table border=\"1\" class=\"dataframe\">\n",
              "  <thead>\n",
              "    <tr style=\"text-align: right;\">\n",
              "      <th></th>\n",
              "      <th>clean_text</th>\n",
              "      <th>category</th>\n",
              "    </tr>\n",
              "  </thead>\n",
              "  <tbody>\n",
              "    <tr>\n",
              "      <th>0</th>\n",
              "      <td>when modi promised “minimum government maximum...</td>\n",
              "      <td>Negative</td>\n",
              "    </tr>\n",
              "    <tr>\n",
              "      <th>1</th>\n",
              "      <td>talk all the nonsense and continue all the dra...</td>\n",
              "      <td>Neutral</td>\n",
              "    </tr>\n",
              "    <tr>\n",
              "      <th>2</th>\n",
              "      <td>what did just say vote for modi  welcome bjp t...</td>\n",
              "      <td>Positive</td>\n",
              "    </tr>\n",
              "    <tr>\n",
              "      <th>3</th>\n",
              "      <td>asking his supporters prefix chowkidar their n...</td>\n",
              "      <td>Positive</td>\n",
              "    </tr>\n",
              "    <tr>\n",
              "      <th>4</th>\n",
              "      <td>answer who among these the most powerful world...</td>\n",
              "      <td>Positive</td>\n",
              "    </tr>\n",
              "  </tbody>\n",
              "</table>\n",
              "</div>"
            ],
            "text/plain": [
              "                                          clean_text  category\n",
              "0  when modi promised “minimum government maximum...  Negative\n",
              "1  talk all the nonsense and continue all the dra...   Neutral\n",
              "2  what did just say vote for modi  welcome bjp t...  Positive\n",
              "3  asking his supporters prefix chowkidar their n...  Positive\n",
              "4  answer who among these the most powerful world...  Positive"
            ]
          },
          "execution_count": 6,
          "metadata": {},
          "output_type": "execute_result"
        }
      ],
      "source": [
        "#mapping tweet categories\n",
        "data['category'] = data['category'].map({-1.0:'Negative', 0.0:'Neutral', 1.0:'Positive'})\n",
        "data.head()"
      ]
    },
    {
      "cell_type": "code",
      "execution_count": null,
      "id": "7a287a9b-fe89-4e4e-9f12-78de0048ffff",
      "metadata": {
        "id": "7a287a9b-fe89-4e4e-9f12-78de0048ffff",
        "outputId": "20d35a02-8275-4436-b9e7-981587b6038c"
      },
      "outputs": [
        {
          "data": {
            "text/plain": [
              "<AxesSubplot:xlabel='category'>"
            ]
          },
          "execution_count": 7,
          "metadata": {},
          "output_type": "execute_result"
        },
        {
          "data": {
            "image/png": "[encoded data removed]",
            "text/plain": [
              "<Figure size 432x288 with 1 Axes>"
            ]
          },
          "metadata": {
            "needs_background": "light"
          },
          "output_type": "display_data"
        }
      ],
      "source": [
        "#distribution of sentiments\n",
        "data.groupby('category').count().plot(kind='bar')"
      ]
    },
    {
      "cell_type": "code",
      "execution_count": null,
      "id": "268650d2-c9f2-4882-ac04-4c1551d7a837",
      "metadata": {
        "id": "268650d2-c9f2-4882-ac04-4c1551d7a837",
        "outputId": "f7918729-97d1-45d3-fea9-65f0d7f31aa9"
      },
      "outputs": [
        {
          "data": {
            "text/plain": [
              "<AxesSubplot:>"
            ]
          },
          "execution_count": 8,
          "metadata": {},
          "output_type": "execute_result"
        },
        {
          "data": {
            "image/png": "[encoded data removed]",
            "text/plain": [
              "<Figure size 432x288 with 1 Axes>"
            ]
          },
          "metadata": {
            "needs_background": "light"
          },
          "output_type": "display_data"
        }
      ],
      "source": [
        "#calulating tweets length\n",
        "tweet_len = pd.Series([len(tweet.split()) for tweet in data['clean_text']])\n",
        "\n",
        "#distribution of tweet text lengths\n",
        "tweet_len.plot(kind='box')"
      ]
    },
    {
      "cell_type": "code",
      "execution_count": null,
      "id": "e1fabcee-dabd-4136-8db3-2ed9e5e2a8f4",
      "metadata": {
        "id": "e1fabcee-dabd-4136-8db3-2ed9e5e2a8f4",
        "outputId": "9b79fc6d-298c-474f-bdc1-65dcd8dc7eb8"
      },
      "outputs": [
        {
          "data": {
            "image/png": "[encoded data removed]",
            "text/plain": [
              "<Figure size 1008x504 with 2 Axes>"
            ]
          },
          "metadata": {
            "needs_background": "light"
          },
          "output_type": "display_data"
        }
      ],
      "source": [
        "#plotting the distribution of text length for positive sentiment tweets\n",
        "fig = plt.figure(figsize=(14,7))\n",
        "data['length'] = data.clean_text.str.split().apply(len)\n",
        "ax1 = fig.add_subplot(122)\n",
        "sns.histplot(data[data['category']=='Positive']['length'], ax=ax1,color='green')\n",
        "describe = data.length[data.category=='Positive'].describe().to_frame().round(2)\n",
        "\n",
        "ax2 = fig.add_subplot(121)\n",
        "ax2.axis('off')\n",
        "font_size=14\n",
        "bbox = [0,0,1,1]\n",
        "table = ax2.table(cellText = describe.values, rowLabels = describe.index, bbox=bbox, colLabels=describe.columns)\n",
        "table.set_fontsize(font_size)\n",
        "fig.suptitle('Distribution of text length for positive sentiment tweets.', fontsize=16)\n",
        "plt.show()"
      ]
    },
    {
      "cell_type": "code",
      "execution_count": null,
      "id": "c33c8e39-5f21-499d-b251-97ff2bf428d5",
      "metadata": {
        "id": "c33c8e39-5f21-499d-b251-97ff2bf428d5",
        "outputId": "2b2a77f8-63ad-4455-f7f9-9599fd9baf29"
      },
      "outputs": [
        {
          "data": {
            "image/png": "[encoded data removed]",
            "text/plain": [
              "<Figure size 1008x504 with 2 Axes>"
            ]
          },
          "metadata": {
            "needs_background": "light"
          },
          "output_type": "display_data"
        }
      ],
      "source": [
        "#plotting the distribution of text length for negative sentiment tweets\n",
        "fig = plt.figure(figsize=(14,7))\n",
        "data['length'] = data.clean_text.str.split().apply(len)\n",
        "ax1 = fig.add_subplot(122)\n",
        "sns.histplot(data[data['category']=='Negative']['length'], ax=ax1,color='red')\n",
        "describe = data.length[data.category=='Negative'].describe().to_frame().round(2)\n",
        "\n",
        "ax2 = fig.add_subplot(121)\n",
        "ax2.axis('off')\n",
        "font_size=14\n",
        "bbox = [0,0,1,1]\n",
        "table = ax2.table(cellText = describe.values, rowLabels = describe.index, bbox=bbox, colLabels=describe.columns)\n",
        "table.set_fontsize(font_size)\n",
        "fig.suptitle('Distribution of text length for negative sentiment tweets.', fontsize=16)\n",
        "plt.show()"
      ]
    },
    {
      "cell_type": "code",
      "execution_count": null,
      "id": "5c0ffd77-d015-482a-be34-00d7a030922a",
      "metadata": {
        "id": "5c0ffd77-d015-482a-be34-00d7a030922a"
      },
      "outputs": [],
      "source": [
        "labels=['Negative','Neutral','Positive']\n",
        "sizes=[]\n",
        "colors = ['red','yellow','green']\n",
        "p=0\n",
        "n=0\n",
        "N=0\n",
        "for i in data['category']:\n",
        "    if i=='Negative':\n",
        "        n+=1\n",
        "    elif i=='Positive':\n",
        "        p+=1\n",
        "    else:\n",
        "        N+=1\n",
        "sizes.append(n)\n",
        "sizes.append(N)\n",
        "sizes.append(p)\n"
      ]
    },
    {
      "cell_type": "code",
      "execution_count": null,
      "id": "c617a41f-b42c-4b8e-8145-a84da685d682",
      "metadata": {
        "id": "c617a41f-b42c-4b8e-8145-a84da685d682",
        "outputId": "ac46f4b6-2668-4aa5-ee47-e06cfcf3f041"
      },
      "outputs": [
        {
          "data": {
            "image/png": "[encoded data removed]",
            "text/plain": [
              "<Figure size 432x288 with 1 Axes>"
            ]
          },
          "metadata": {},
          "output_type": "display_data"
        }
      ],
      "source": [
        "#pie chart for tweets\n",
        "explode = (0.05, 0.05, 0.05)\n",
        "plt.pie(sizes,explode = explode,colors=colors,labels=labels,autopct='%1.1f%%',shadow=True,startangle=90)\n",
        "plt.axis('equal')\n",
        "plt.title(\"Tweets Distribution\")\n",
        "plt.show()"
      ]
    },
    {
      "cell_type": "code",
      "execution_count": null,
      "id": "4df543ce-7608-4c4c-a5b4-4bf5227a6b10",
      "metadata": {
        "id": "4df543ce-7608-4c4c-a5b4-4bf5227a6b10",
        "outputId": "7be2e0c7-2abc-4f78-a57d-4180d254e576"
      },
      "outputs": [
        {
          "data": {
            "text/plain": [
              "<bound method NDFrame.head of                                                clean_text  category\n",
              "0       when modi promised “minimum government maximum...  Negative\n",
              "1       talk all the nonsense and continue all the dra...   Neutral\n",
              "2       what did just say vote for modi  welcome bjp t...  Positive\n",
              "3       asking his supporters prefix chowkidar their n...  Positive\n",
              "4       answer who among these the most powerful world...  Positive\n",
              "...                                                   ...       ...\n",
              "162975  why these 456 crores paid neerav modi not reco...  Negative\n",
              "162976  dear rss terrorist payal gawar what about modi...  Negative\n",
              "162977  did you cover her interaction forum where she ...   Neutral\n",
              "162978  there big project came into india modi dream p...   Neutral\n",
              "162979  have you ever listen about like gurukul where ...  Positive\n",
              "\n",
              "[162969 rows x 2 columns]>"
            ]
          },
          "execution_count": 13,
          "metadata": {},
          "output_type": "execute_result"
        }
      ],
      "source": [
        "data.drop(['length'],axis=1,inplace=True)\n",
        "data.head"
      ]
    },
    {
      "cell_type": "code",
      "execution_count": null,
      "id": "082f3341-b3ab-4271-a23f-15fa009c0451",
      "metadata": {
        "id": "082f3341-b3ab-4271-a23f-15fa009c0451",
        "outputId": "c8b09810-e96b-4141-b8b2-445c142c8812"
      },
      "outputs": [
        {
          "name": "stdout",
          "output_type": "stream",
          "text": [
            "\n",
            "Original tweet ->  when modi promised “minimum government maximum governance” expected him begin the difficult job reforming the state why does take years get justice state should and not business and should exit psus and temples\n",
            "\n",
            "Processed tweet ->  when modi promised “minimum government maximum governance” expected him begin the difficult job reforming the state why does take years get justice state should and not business and should exit psus and temples\n"
          ]
        }
      ],
      "source": [
        "def tweet_to_words(tweet):\n",
        "    text = tweet.lower() #make all letters to lowercase\n",
        "    text = re.sub(r\"[^a-zA-Z0-9]\", \" \", text) #remove non-letters\n",
        "    words = text.split() #tokenize\n",
        "    words = [w for w in words if w not in stopwords.words(\"english\")] #removing stopwords\n",
        "    words = [PorterStemmer().stem(w) for w in words]\n",
        "    return words\n",
        "print(\"\\nOriginal tweet -> \",data['clean_text'][0])\n",
        "print(\"\\nProcessed tweet -> \",data['clean_text'][0])"
      ]
    },
    {
      "cell_type": "code",
      "execution_count": null,
      "id": "e1cbc99f-786e-4dac-a050-56356bab0c42",
      "metadata": {
        "id": "e1cbc99f-786e-4dac-a050-56356bab0c42"
      },
      "outputs": [],
      "source": [
        "X = list(map(tweet_to_words,data['clean_text']))"
      ]
    },
    {
      "cell_type": "code",
      "execution_count": null,
      "id": "3be63205-e7ea-4645-97e1-a8c0c32092fb",
      "metadata": {
        "id": "3be63205-e7ea-4645-97e1-a8c0c32092fb"
      },
      "outputs": [],
      "source": [
        "from sklearn.preprocessing import LabelEncoder\n",
        "le = LabelEncoder()\n",
        "Y = le.fit_transform(data['category'])"
      ]
    },
    {
      "cell_type": "code",
      "execution_count": null,
      "id": "023da06d-3a7e-4077-81f9-57fd078e5e37",
      "metadata": {
        "id": "023da06d-3a7e-4077-81f9-57fd078e5e37",
        "outputId": "453d4e73-8620-4da4-b14f-494c79c868ec"
      },
      "outputs": [
        {
          "name": "stdout",
          "output_type": "stream",
          "text": [
            "['modi', 'promis', 'minimum', 'govern', 'maximum', 'govern', 'expect', 'begin', 'difficult', 'job', 'reform', 'state', 'take', 'year', 'get', 'justic', 'state', 'busi', 'exit', 'psu', 'templ']\n",
            "0\n"
          ]
        }
      ],
      "source": [
        "print(X[0])\n",
        "print(Y[0])"
      ]
    },
    {
      "cell_type": "code",
      "execution_count": null,
      "id": "c0dde365-5f25-4a19-8b3e-d06d1baeb5db",
      "metadata": {
        "id": "c0dde365-5f25-4a19-8b3e-d06d1baeb5db",
        "outputId": "1f6a8f99-3d74-4d93-bf3c-49696f80501f"
      },
      "outputs": [
        {
          "name": "stdout",
          "output_type": "stream",
          "text": [
            "Number of tweets in the total set : 162969\n",
            "Number of tweets in the training set : 130375\n",
            "Number of tweets in the testing set : 32594\n"
          ]
        }
      ],
      "source": [
        "X_train, X_test, Y_train, Y_test = train_test_split(X, Y, test_size=0.2, random_state=1)\n",
        "print('Number of tweets in the total set : {}'.format(len(X)))\n",
        "print('Number of tweets in the training set : {}'.format(len(X_train)))\n",
        "print('Number of tweets in the testing set : {}'.format(len(X_test)))"
      ]
    },
    {
      "cell_type": "code",
      "execution_count": null,
      "id": "520a930d-ce73-4bbb-bbb7-28d8491f7827",
      "metadata": {
        "id": "520a930d-ce73-4bbb-bbb7-28d8491f7827"
      },
      "outputs": [],
      "source": [
        "from sklearn.feature_extraction.text import CountVectorizer\n",
        "count_vector = CountVectorizer(max_features=5000,preprocessor=lambda x:x, tokenizer=lambda x:x)\n",
        "X_train=count_vector.fit_transform(X_train).toarray()\n",
        "X_test=count_vector.fit_transform(X_test).toarray()"
      ]
    },
    {
      "cell_type": "code",
      "execution_count": null,
      "id": "79209f38-abb2-4a02-b479-338d113de44e",
      "metadata": {
        "id": "79209f38-abb2-4a02-b479-338d113de44e",
        "outputId": "06c9dfd8-7dab-4fc0-86c8-f9b64096470d"
      },
      "outputs": [
        {
          "name": "stdout",
          "output_type": "stream",
          "text": [
            "['100', '1000', '10000', '1015', '108', '111', '1145', '11th', '1200', '12000', '125', '12k', '130', '130cr', '14000', '150', '15000', '1500000', '157200000', '15l', '15lac', '15lakh', '18000', '1947', '1950', '1962', '1964', '1969', '1971', '1980', '1984', '1st', '200', '2000', '2002', '2004', '2007', '2008', '2009', '2010', '2011', '2012', '2013', '2014', '2015', '2016', '2017', '201718', '2018', '2019']\n"
          ]
        }
      ],
      "source": [
        "# print first 200 words/tokens\n",
        "print(count_vector.get_feature_names()[0:50])"
      ]
    },
    {
      "cell_type": "code",
      "execution_count": null,
      "id": "94e9436d-7ae1-4ea3-b45c-ec134d15bbfa",
      "metadata": {
        "id": "94e9436d-7ae1-4ea3-b45c-ec134d15bbfa",
        "outputId": "7fadd22a-cc17-4cea-e727-6c8820f1b234"
      },
      "outputs": [
        {
          "data": {
            "image/png": "[encoded data removed]",
            "text/plain": [
              "<Figure size 432x288 with 1 Axes>"
            ]
          },
          "metadata": {
            "needs_background": "light"
          },
          "output_type": "display_data"
        }
      ],
      "source": [
        "# Plot the BoW feature vector\n",
        "plt.plot(X_train[2,:])\n",
        "plt.xlabel('Word')\n",
        "plt.ylabel('Count')\n",
        "plt.show()"
      ]
    },
    {
      "cell_type": "code",
      "execution_count": null,
      "id": "a64bd75e-68af-4545-9524-075d24469aea",
      "metadata": {
        "id": "a64bd75e-68af-4545-9524-075d24469aea",
        "outputId": "3f069bbe-6526-47c9-f73b-651c4594a604"
      },
      "outputs": [
        {
          "name": "stdout",
          "output_type": "stream",
          "text": [
            "Before Tokenization & Padding \n",
            " when modi promised “minimum government maximum governance” expected him begin the difficult job reforming the state why does take years get justice state should and not business and should exit psus and temples\n",
            "After Tokenization & Padding \n",
            " [  42    1  307   66 1726 1119   40 2378    2 1211  205    2  215   32\n",
            "  155  100   49   69 1068  215   50    3    6  546    3   50 4179    3\n",
            " 2806    0    0    0    0    0    0    0    0    0    0    0    0    0\n",
            "    0    0    0    0    0    0    0    0]\n"
          ]
        }
      ],
      "source": [
        "from keras.preprocessing.text import Tokenizer\n",
        "from keras.preprocessing.sequence import pad_sequences\n",
        "\n",
        "max_words = 5000\n",
        "max_len=50\n",
        "\n",
        "def tokenize_pad_sequences(text):\n",
        "    '''\n",
        "    This function tokenize the input text into sequnences of intergers and then\n",
        "    pad each sequence to the same length\n",
        "    '''\n",
        "    # Text tokenization\n",
        "    tokenizer = Tokenizer(num_words=max_words, lower=True, split=' ')\n",
        "    tokenizer.fit_on_texts(text)\n",
        "    # Transforms text to a sequence of integers\n",
        "    X = tokenizer.texts_to_sequences(text)\n",
        "    # Pad sequences to the same length\n",
        "    X = pad_sequences(X, padding='post', maxlen=max_len)\n",
        "    # return sequences\n",
        "    return X, tokenizer\n",
        "\n",
        "print('Before Tokenization & Padding \\n', data['clean_text'][0])\n",
        "X, tokenizer = tokenize_pad_sequences(data['clean_text'])\n",
        "print('After Tokenization & Padding \\n', X[0])"
      ]
    },
    {
      "cell_type": "code",
      "execution_count": null,
      "id": "32a57cd7-5d28-46aa-81dc-d26731c8cec5",
      "metadata": {
        "id": "32a57cd7-5d28-46aa-81dc-d26731c8cec5",
        "outputId": "a9723ae9-7437-4546-ae29-17e7bf02ec00"
      },
      "outputs": [
        {
          "name": "stdout",
          "output_type": "stream",
          "text": [
            "50 210\n"
          ]
        }
      ],
      "source": [
        "print(len(X[0]),len(data['clean_text'][0]))"
      ]
    },
    {
      "cell_type": "code",
      "execution_count": null,
      "id": "aa66182b-78cf-4141-b638-3a8ebcbb1294",
      "metadata": {
        "id": "aa66182b-78cf-4141-b638-3a8ebcbb1294"
      },
      "outputs": [],
      "source": [
        "import pickle\n",
        "\n",
        "# saving\n",
        "with open('tokenizer.pickle', 'wb') as handle:\n",
        "    pickle.dump(tokenizer, handle, protocol=pickle.HIGHEST_PROTOCOL)\n",
        "\n",
        "# loading\n",
        "with open('tokenizer.pickle', 'rb') as handle:\n",
        "    tokenizer = pickle.load(handle)"
      ]
    },
    {
      "cell_type": "code",
      "execution_count": null,
      "id": "c44a7217-1fd2-4783-869d-86e53ca7621d",
      "metadata": {
        "id": "c44a7217-1fd2-4783-869d-86e53ca7621d",
        "outputId": "ac3e15d1-f5bc-42fd-bf33-6f59da80a1aa"
      },
      "outputs": [
        {
          "name": "stdout",
          "output_type": "stream",
          "text": [
            "Train Set -> (114078, 50) (114078, 3)\n",
            "Validation Set -> (1000, 50) (1000, 3)\n",
            "Test Set -> (113078, 50) (113078, 3)\n"
          ]
        }
      ],
      "source": [
        "# Convert categorical variable into dummy/indicator variables.\n",
        "y = pd.get_dummies(data['category'])\n",
        "# Train and Test split\n",
        "X_train, X_test,y_train, y_test = train_test_split(X, y, test_size = 0.3, random_state = 42)\n",
        "# Extracting validation set from the train set\n",
        "valid_size=1000\n",
        "X_valid, y_valid = X_train[-valid_size:], y_train[-valid_size:]\n",
        "X_test, y_test = X_train[:-valid_size], y_train[:-valid_size]\n",
        "\n",
        "print('Train Set ->', X_train.shape, y_train.shape)\n",
        "print('Validation Set ->', X_valid.shape, y_valid.shape)\n",
        "print('Test Set ->', X_test.shape, y_test.shape)"
      ]
    },
    {
      "cell_type": "code",
      "execution_count": null,
      "id": "a7f208c5-9212-493f-b361-8c407ae36146",
      "metadata": {
        "id": "a7f208c5-9212-493f-b361-8c407ae36146"
      },
      "outputs": [],
      "source": [
        "import keras.backend as K\n",
        "\n",
        "def f1_score(precision, recall):\n",
        "    # Function to calculate f1 score\n",
        "\n",
        "    f1_val = 2*(precision*recall)/(precision+recall+K.epsilon())\n",
        "    return f1_val"
      ]
    },
    {
      "cell_type": "code",
      "execution_count": null,
      "id": "b6835f5a-35f1-4443-9226-9bb4ca905c1e",
      "metadata": {
        "id": "b6835f5a-35f1-4443-9226-9bb4ca905c1e"
      },
      "outputs": [],
      "source": [
        "from keras.models import Sequential\n",
        "from keras.layers import Embedding, Conv1D, MaxPooling1D, Bidirectional, LSTM, Dense, Dropout\n",
        "from keras.metrics import Precision, Recall\n",
        "\n",
        "vocab_size = 5000\n",
        "embedding_size = 32\n",
        "\n",
        "# Build model\n",
        "model= Sequential()\n",
        "model.add(Embedding(vocab_size, embedding_size, input_length=max_len))\n",
        "model.add(Conv1D(filters=32, kernel_size=3, padding='same', activation='relu'))\n",
        "model.add(MaxPooling1D(pool_size=2))\n",
        "model.add(LSTM(32))\n",
        "model.add(Dropout(0.4))\n",
        "model.add(Dense(3, activation='softmax'))"
      ]
    },
    {
      "cell_type": "code",
      "execution_count": null,
      "id": "83335dea-1893-47f9-afdb-83a5e0a50407",
      "metadata": {
        "id": "83335dea-1893-47f9-afdb-83a5e0a50407"
      },
      "outputs": [],
      "source": [
        "# Compile model\n",
        "model.compile(loss='categorical_crossentropy', optimizer='adam',\n",
        "               metrics=['accuracy', Precision(), Recall()])\n",
        "\n",
        "# Train model\n",
        "num_epochs = 10\n",
        "batch_size = 32\n",
        "history = model.fit(X_train, y_train,validation_data=(X_valid, y_valid),batch_size=batch_size, epochs=num_epochs, verbose=0)"
      ]
    },
    {
      "cell_type": "code",
      "execution_count": null,
      "id": "9d875b11-5fb4-4aa3-bbb2-f20eb9409ad3",
      "metadata": {
        "id": "9d875b11-5fb4-4aa3-bbb2-f20eb9409ad3",
        "outputId": "96133148-0cd2-4126-c620-5bb0459fc9be"
      },
      "outputs": [
        {
          "name": "stdout",
          "output_type": "stream",
          "text": [
            "Model: \"sequential\"\n",
            "_________________________________________________________________\n",
            "Layer (type)                 Output Shape              Param #   \n",
            "=================================================================\n",
            "embedding (Embedding)        (None, 50, 32)            160000    \n",
            "_________________________________________________________________\n",
            "conv1d (Conv1D)              (None, 50, 32)            3104      \n",
            "_________________________________________________________________\n",
            "max_pooling1d (MaxPooling1D) (None, 25, 32)            0         \n",
            "_________________________________________________________________\n",
            "lstm (LSTM)                  (None, 32)                8320      \n",
            "_________________________________________________________________\n",
            "dropout (Dropout)            (None, 32)                0         \n",
            "_________________________________________________________________\n",
            "dense (Dense)                (None, 3)                 99        \n",
            "=================================================================\n",
            "Total params: 171,523\n",
            "Trainable params: 171,523\n",
            "Non-trainable params: 0\n",
            "_________________________________________________________________\n",
            "None\n"
          ]
        }
      ],
      "source": [
        "print(model.summary())"
      ]
    },
    {
      "cell_type": "code",
      "execution_count": null,
      "id": "6aa84c19-12e5-4290-a037-37c41945bb72",
      "metadata": {
        "id": "6aa84c19-12e5-4290-a037-37c41945bb72",
        "outputId": "8895a794-c019-4bd2-d154-030b32b18d93"
      },
      "outputs": [
        {
          "name": "stdout",
          "output_type": "stream",
          "text": [
            "\n",
            "Accuracy  : 0.9868\n",
            "Precision : 0.9886\n",
            "Recall    : 0.9853\n",
            "F1 Score  : 0.9870\n"
          ]
        }
      ],
      "source": [
        "# Evaluate model on the test set\n",
        "loss, accuracy, precision, recall = model.evaluate(X_test, y_test, verbose=0)\n",
        "# Print metrics\n",
        "print('')\n",
        "print('Accuracy  : {:.4f}'.format(accuracy))\n",
        "print('Precision : {:.4f}'.format(precision))\n",
        "print('Recall    : {:.4f}'.format(recall))\n",
        "print('F1 Score  : {:.4f}'.format(f1_score(precision, recall)))"
      ]
    },
    {
      "cell_type": "code",
      "execution_count": null,
      "id": "80b7f4aa-00d3-43ac-8a7e-e80b9289c234",
      "metadata": {
        "id": "80b7f4aa-00d3-43ac-8a7e-e80b9289c234",
        "outputId": "e13dd5b8-6f45-4636-eddb-571ccee3f210"
      },
      "outputs": [
        {
          "data": {
            "image/png": "[encoded data removed]",
            "text/plain": [
              "<Figure size 720x288 with 2 Axes>"
            ]
          },
          "metadata": {
            "needs_background": "light"
          },
          "output_type": "display_data"
        }
      ],
      "source": [
        "def plot_training_hist(history):\n",
        "    '''Function to plot history for accuracy and loss'''\n",
        "\n",
        "    fig, ax = plt.subplots(1, 2, figsize=(10,4))\n",
        "    # first plot\n",
        "    ax[0].plot(history.history['accuracy'])\n",
        "    ax[0].plot(history.history['val_accuracy'])\n",
        "    ax[0].set_title('Model Accuracy')\n",
        "    ax[0].set_xlabel('epoch')\n",
        "    ax[0].set_ylabel('accuracy')\n",
        "    ax[0].legend(['train', 'validation'], loc='best')\n",
        "    # second plot\n",
        "    ax[1].plot(history.history['loss'])\n",
        "    ax[1].plot(history.history['val_loss'])\n",
        "    ax[1].set_title('Model Loss')\n",
        "    ax[1].set_xlabel('epoch')\n",
        "    ax[1].set_ylabel('loss')\n",
        "    ax[1].legend(['train', 'validation'], loc='best')\n",
        "\n",
        "plot_training_hist(history)"
      ]
    },
    {
      "cell_type": "code",
      "execution_count": null,
      "id": "be11f5bd-d6ed-4bc1-a9ba-5666804a3701",
      "metadata": {
        "tags": [],
        "id": "be11f5bd-d6ed-4bc1-a9ba-5666804a3701",
        "outputId": "49b4f745-a4b7-47d0-8287-a6a5864a8d6d"
      },
      "outputs": [
        {
          "data": {
            "image/png": "[encoded data removed]",
            "text/plain": [
              "<Figure size 576x432 with 2 Axes>"
            ]
          },
          "metadata": {
            "needs_background": "light"
          },
          "output_type": "display_data"
        }
      ],
      "source": [
        "from sklearn.metrics import confusion_matrix\n",
        "\n",
        "def plot_confusion_matrix(model, X_test, y_test):\n",
        "    '''Function to plot confusion matrix for the passed model and the data'''\n",
        "\n",
        "    sentiment_classes = ['Negative', 'Neutral', 'Positive']\n",
        "    # use model to do the prediction\n",
        "    y_pred = model.predict(X_test)\n",
        "    # compute confusion matrix\n",
        "    cm = confusion_matrix(np.argmax(np.array(y_test),axis=1), np.argmax(y_pred, axis=1))\n",
        "    # plot confusion matrix\n",
        "    plt.figure(figsize=(8,6))\n",
        "    sns.heatmap(cm, cmap=plt.cm.Blues, annot=True, fmt='d',\n",
        "                xticklabels=sentiment_classes,\n",
        "                yticklabels=sentiment_classes)\n",
        "    plt.title('Confusion matrix', fontsize=16)\n",
        "    plt.xlabel('Actual label', fontsize=12)\n",
        "    plt.ylabel('Predicted label', fontsize=12)\n",
        "\n",
        "plot_confusion_matrix(model, X_test, y_test)"
      ]
    },
    {
      "cell_type": "code",
      "execution_count": null,
      "id": "64cbfed6-a108-46ca-9b6f-195e9ffe5a87",
      "metadata": {
        "tags": [],
        "id": "64cbfed6-a108-46ca-9b6f-195e9ffe5a87",
        "outputId": "adfade28-f9a0-40ee-b32b-bc1452fbfc26"
      },
      "outputs": [
        {
          "name": "stdout",
          "output_type": "stream",
          "text": [
            "Best model saved\n"
          ]
        }
      ],
      "source": [
        "# Save the model architecture & the weights\n",
        "model.save('best_model.h5')\n",
        "print('Best model saved')"
      ]
    },
    {
      "cell_type": "code",
      "execution_count": null,
      "id": "cbf19f37-d13d-410e-b7c6-c6ce6217984c",
      "metadata": {
        "id": "cbf19f37-d13d-410e-b7c6-c6ce6217984c"
      },
      "outputs": [],
      "source": [
        "from keras.models import load_model\n",
        "\n",
        "# Load model\n",
        "model = load_model('best_model.h5')\n",
        "\n",
        "def predict_class(text):\n",
        "    '''Function to predict sentiment class of the passed text'''\n",
        "\n",
        "    sentiment_classes = ['Negative', 'Neutral', 'Positive']\n",
        "    max_len=50\n",
        "\n",
        "    # Transforms text to a sequence of integers using a tokenizer object\n",
        "    xt = tokenizer.texts_to_sequences(text)\n",
        "    # Pad sequences to the same length\n",
        "    xt = pad_sequences(xt, padding='post', maxlen=max_len)\n",
        "    # Do the prediction using the loaded model\n",
        "    yt = model.predict(xt).argmax(axis=1)\n",
        "    # Print the predicted sentiment\n",
        "    print('The predicted sentiment is', sentiment_classes[yt[0]])"
      ]
    },
    {
      "cell_type": "code",
      "execution_count": null,
      "id": "bff3b9ef-10d1-40f4-abe8-a2d2f7939b75",
      "metadata": {
        "id": "bff3b9ef-10d1-40f4-abe8-a2d2f7939b75",
        "outputId": "47e6a576-e435-4f0f-d2dc-64943d6cf985"
      },
      "outputs": [
        {
          "name": "stdout",
          "output_type": "stream",
          "text": [
            "The predicted sentiment is Negative\n"
          ]
        }
      ],
      "source": [
        "predict_class(['\"This is the worst day of my life'])"
      ]
    },
    {
      "cell_type": "code",
      "execution_count": null,
      "id": "9b0c5fc0-d100-4c5f-825e-23c086b841c8",
      "metadata": {
        "id": "9b0c5fc0-d100-4c5f-825e-23c086b841c8",
        "outputId": "689d39a4-4728-4c1c-e2a2-b9dbe4c47729"
      },
      "outputs": [
        {
          "name": "stdout",
          "output_type": "stream",
          "text": [
            "The predicted sentiment is Neutral\n"
          ]
        }
      ],
      "source": [
        "predict_class(['\"hello how are you'])"
      ]
    },
    {
      "cell_type": "code",
      "execution_count": null,
      "id": "5af02641-33f9-40fd-bf54-95a30e14961b",
      "metadata": {
        "id": "5af02641-33f9-40fd-bf54-95a30e14961b",
        "outputId": "11f674d6-4ab1-4b27-cabb-f1d03a09d2b0"
      },
      "outputs": [
        {
          "name": "stdout",
          "output_type": "stream",
          "text": [
            "The predicted sentiment is Positive\n"
          ]
        }
      ],
      "source": [
        "predict_class(['\"always be happy'])"
      ]
    },
    {
      "cell_type": "code",
      "execution_count": null,
      "id": "c6d3926e-995b-49b5-98fd-d57dd405224b",
      "metadata": {
        "id": "c6d3926e-995b-49b5-98fd-d57dd405224b"
      },
      "outputs": [],
      "source": []
    }
  ],
  "metadata": {
    "kernelspec": {
      "display_name": "Python 3",
      "language": "python",
      "name": "python3"
    },
    "language_info": {
      "codemirror_mode": {
        "name": "ipython",
        "version": 3
      },
      "file_extension": ".py",
      "mimetype": "text/x-python",
      "name": "python",
      "nbconvert_exporter": "python",
      "pygments_lexer": "ipython3",
      "version": "3.8.5"
    },
    "colab": {
      "provenance": [],
      "toc_visible": true
    }
  },
  "nbformat": 4,
  "nbformat_minor": 5
}